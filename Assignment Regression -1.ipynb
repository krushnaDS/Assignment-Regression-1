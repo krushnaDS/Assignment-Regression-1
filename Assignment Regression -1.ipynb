{
 "cells": [
  {
   "cell_type": "markdown",
   "id": "327cefda",
   "metadata": {},
   "source": [
    "##### Q1. Explain the difference between simple linear regression and multiple linear regression. Provide an example of each.\n",
    "\n",
    "Ans : \n",
    "In simple linear regression we use one independent feature to explain variation in dependent feature.\n",
    "In simple Linear regression there is linear relation between dependent and independent features which is generally shown by straight line.\n",
    "\n",
    "eg. Predict a student's exam score based on the number of hours studied.\n",
    "\n",
    "In multiple linear regression there can be more than one features which are used to explain \n",
    "variation in dependent feature. Generally relation between features is shown by hyperplane of \n",
    "higher dimensions.\n",
    "\n",
    "eg.  Predict a home's selling price based on its square footage, number of bedrooms, and age."
   ]
  },
  {
   "cell_type": "markdown",
   "id": "cd8a40a6",
   "metadata": {},
   "source": [
    "##### Q2. Discuss the assumptions of linear regression. How can you check whether these assumptions hold in a given dataset?\n",
    "\n",
    "Ans: Assumptions of linear regression\n",
    "\n",
    "###### 1. Linearity \n",
    "The relationship between the dependent and independent variable is linear.\n",
    "\n",
    "checking : Visually inspect scatter plots of dependent and independent variables \n",
    "for a linear pattern.\n",
    "\n",
    "###### 2. Independence of Errors:\n",
    "The errors are independent of each other.\n",
    "\n",
    "checking : Plot residuals against time to check pattern.\n",
    "\n",
    "###### 3. Homoscedasticity:\n",
    "The variance of errors is constant across all levels of the independent variables.\n",
    "\n",
    "checking : Use tests like Breusch-Pagon.\n",
    "\n",
    "###### 4. Normality of errors:\n",
    "The errors are normally distributed.\n",
    "\n",
    "checking : plot histogram of errors.\n",
    "\n",
    "###### 5. No Multicollinearity \n",
    "There is no strong linear relationship between the independent variables.\n",
    "\n",
    "checking : Calculate correlation coefficients between pairs of independent variables.\n"
   ]
  },
  {
   "cell_type": "markdown",
   "id": "6921741d",
   "metadata": {},
   "source": [
    "##### Q3. How do you interpret the slope and intercept in a linear regression model? Provide an example using a real-world scenario.\n",
    "\n",
    "\n",
    "Ans:\n",
    "######  Slope :  \n",
    "Represents the average change in the dependent variable (y) for every one-unit increase in the independent variable (x).\n",
    "\n",
    "\n",
    "######  Intercept :\n",
    "The predicted value of the dependent variable (y) when the independent variable (x) is zero.\n",
    "\n",
    "###### Real-World Example:\n",
    "\n",
    "Scenario: A coffee shop owner wants to model the relationship between the outdoor temperature (x) and the number of iced coffees sold (y) to better forecast sales.\n",
    "\n",
    "Model: y = 5 + 2x\n",
    "\n",
    "Slope = 2\n",
    "intercept = 5"
   ]
  },
  {
   "cell_type": "markdown",
   "id": "26f9cb67",
   "metadata": {},
   "source": [
    "##### Q4. Explain the concept of gradient descent. How is it used in machine learning?\n",
    "\n",
    "Gradient descent is an optimization algorithm which is used for optimizing \n",
    "the cost function or error in the model. It enables the models to take the\n",
    "gradient or direction to reduce the errors by reaching to least possible \n",
    "error.\n",
    "\n"
   ]
  },
  {
   "cell_type": "markdown",
   "id": "69dd0d57",
   "metadata": {},
   "source": [
    "##### Q5. Describe the multiple linear regression model. How does it differ from simple linear regression?\n",
    "\n",
    "In multiple linear regression there can be more than one features which are used to explain variation in dependent feature. Generally relation between features is shown by hyperplane of higher dimensions.\n",
    "\n",
    "Simple linear regression: Uses one independent variable to explain the dependent variable , Generates a straight line that best fits the data points on a scatter plot.\n",
    "\n",
    "Multiple linear regression: Handles two or more independent variables simultaneously, offering a more nuanced understanding of complex relationships , Creates a multidimensional hyperplane that best approximates the data in a higher-dimensional space, accounting for the interplay of various independent variables."
   ]
  },
  {
   "cell_type": "markdown",
   "id": "3b6e632e",
   "metadata": {},
   "source": [
    "##### Q6. Explain the concept of multicollinearity in multiple linear regression.How can you detect and address this issue?\n",
    "\n",
    "Ans:\n",
    "###### Multicollinearity : \n",
    "When two or more independent variables are highly correlated to each other.This strong correlation between independent variables can pose problems for interpreting the results of the regression analysis.\n",
    "\n",
    "checking : Calculate correlation coefficients between pairs of independent variables."
   ]
  },
  {
   "cell_type": "markdown",
   "id": "2aa16678",
   "metadata": {},
   "source": [
    "##### Q7. Describe the polynomial regression model. How is it different from linear regression?\n",
    "\n",
    "Ans: Polynomial regression is a form of linear regression in which the relationship\n",
    "between the independent variable X and independent variable Y is modelled as an nth-\n",
    "degree polynomial.\n",
    "\n",
    "Difference between polynomial regression and linear regression is :\n",
    "In linear regression relation between X and Y is linear. where in polynomial regression\n",
    "the relation between X and Y is in the form of polynomial equation."
   ]
  },
  {
   "cell_type": "markdown",
   "id": "0434fdd7",
   "metadata": {},
   "source": [
    "##### Q8. What are the advantages and disadvantages of polynomial regression compared to linear regression? In what situations would you prefer to use polynomial regression?\n",
    "\n",
    "Ans: \n",
    "Advantages of Polynomial Regression:\n",
    "\n",
    "Flexibility: Can capture more complex, non-linear relationships between variables, which linear regression cannot. This allows for modeling data with curves, bends, and even multiple turning points.\n",
    "\n",
    "Improved fit: In some cases, especially with non-linear data, polynomial models can achieve a better \n",
    "\n",
    "fit compared to linear models, potentially leading to higher accuracy in predictions.\n",
    "Versatility: Can handle a wider range of data patterns compared to linear models.\n",
    "\n",
    "###### When you suspect a non-linear relationship between your variables, polynomial regression can be a good choice. This could be relevant in fields like physics, biology, and economics."
   ]
  },
  {
   "cell_type": "code",
   "execution_count": null,
   "id": "23b136b6",
   "metadata": {},
   "outputs": [],
   "source": []
  }
 ],
 "metadata": {
  "kernelspec": {
   "display_name": "Python 3 (ipykernel)",
   "language": "python",
   "name": "python3"
  },
  "language_info": {
   "codemirror_mode": {
    "name": "ipython",
    "version": 3
   },
   "file_extension": ".py",
   "mimetype": "text/x-python",
   "name": "python",
   "nbconvert_exporter": "python",
   "pygments_lexer": "ipython3",
   "version": "3.10.9"
  }
 },
 "nbformat": 4,
 "nbformat_minor": 5
}
